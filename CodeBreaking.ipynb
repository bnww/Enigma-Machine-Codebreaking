{
 "cells": [
  {
   "cell_type": "code",
   "execution_count": null,
   "metadata": {},
   "outputs": [],
   "source": [
    "from enigma import *\n",
    "import itertools as iter"
   ]
  },
  {
   "cell_type": "code",
   "execution_count": 2,
   "metadata": {},
   "outputs": [
    {
     "name": "stdout",
     "output_type": "stream",
     "text": [
      "Reflector: C\n"
     ]
    }
   ],
   "source": [
    "# Code 1 - finding the unknown reflector\n",
    "\n",
    "code_1_plug = Plugboard()\n",
    "code_1_plug.add(PlugLead(\"KI\"))\n",
    "code_1_plug.add(PlugLead(\"XN\"))\n",
    "code_1_plug.add(PlugLead(\"FL\"))\n",
    "\n",
    "def find_reflector(plugboard, crib, code):\n",
    "    reflectors = [\"A\", \"B\", \"C\"]\n",
    "    for reflector in reflectors:\n",
    "        rotors = Rotors()\n",
    "        rotors.set_ref_rotors(reflector, \"Beta\", \"Gamma\", \"V\")\n",
    "        rotors.initial_positions(\"M\", \"J\", \"M\")\n",
    "        rotors.ring_settings(4,2,14)\n",
    "        enigma = Enigma(rotors, plugboard)\n",
    "        if crib in enigma.encode(code):\n",
    "            print(f\"Reflector: {reflector}\")\n",
    "    \n",
    "find_reflector(code_1_plug, \"SECRETS\", \"DMEXBMKYCVPNQBEDHXVPZGKMTFFBJRPJTLHLCHOTKOYXGGHZ\")"
   ]
  },
  {
   "cell_type": "code",
   "execution_count": 3,
   "metadata": {},
   "outputs": [
    {
     "data": {
      "text/plain": [
       "'NICEWORKYOUVEMANAGEDTODECODETHEFIRSTSECRETSTRING'"
      ]
     },
     "execution_count": 3,
     "metadata": {},
     "output_type": "execute_result"
    }
   ],
   "source": [
    "# Code 1 - decoding the message\n",
    "\n",
    "code_1_rotors = Rotors()\n",
    "code_1_rotors.set_ref_rotors(\"C\", \"Beta\", \"Gamma\", \"V\")\n",
    "code_1_rotors.initial_positions(\"M\", \"J\", \"M\")\n",
    "code_1_rotors.ring_settings(4,2,14)\n",
    "\n",
    "code_1_plug = Plugboard()\n",
    "code_1_plug.add(PlugLead(\"KI\"))\n",
    "code_1_plug.add(PlugLead(\"XN\"))\n",
    "code_1_plug.add(PlugLead(\"FL\"))\n",
    "\n",
    "code_1_enigma = Enigma(code_1_rotors, code_1_plug)\n",
    "code_1_enigma.encode(\"DMEXBMKYCVPNQBEDHXVPZGKMTFFBJRPJTLHLCHOTKOYXGGHZ\")"
   ]
  },
  {
   "cell_type": "code",
   "execution_count": 4,
   "metadata": {},
   "outputs": [
    {
     "name": "stdout",
     "output_type": "stream",
     "text": [
      "I M G\n"
     ]
    }
   ],
   "source": [
    "# Code 2 - finding the unknown starting positions\n",
    "code_2_rotors = Rotors()\n",
    "code_2_rotors.set_ref_rotors(\"B\", \"Beta\", \"I\", \"III\")\n",
    "code_2_rotors.ring_settings(23,2,10)\n",
    "\n",
    "code_2_plug = Plugboard()\n",
    "code_2_plug.add(PlugLead(\"VH\"))\n",
    "code_2_plug.add(PlugLead(\"PT\"))\n",
    "code_2_plug.add(PlugLead(\"ZG\"))\n",
    "code_2_plug.add(PlugLead(\"BJ\"))\n",
    "code_2_plug.add(PlugLead(\"EY\"))\n",
    "code_2_plug.add(PlugLead(\"FS\"))\n",
    "\n",
    "def find_positions(rotors, plugboard, crib, code):\n",
    "    upper_alphabet = range(65, 91)\n",
    "    for r3 in upper_alphabet:\n",
    "        for r2 in upper_alphabet:\n",
    "            for r1 in upper_alphabet:\n",
    "                rotors.initial_positions(chr(r3), chr(r2), chr(r1))\n",
    "                enigma = Enigma(rotors, plugboard)\n",
    "                if crib in enigma.encode(code):\n",
    "                    print(chr(r3), chr(r2), chr(r1))\n",
    "                    \n",
    "find_positions(code_2_rotors, code_2_plug, \"UNIVERSITY\", \"CMFSUPKNCBMUYEQVVDYKLRQZTPUFHSWWAKTUGXMPAMYAFITXIJKMH\")"
   ]
  },
  {
   "cell_type": "code",
   "execution_count": 5,
   "metadata": {},
   "outputs": [
    {
     "data": {
      "text/plain": [
       "'IHOPEYOUAREENJOYINGTHEUNIVERSITYOFBATHEXPERIENCESOFAR'"
      ]
     },
     "execution_count": 5,
     "metadata": {},
     "output_type": "execute_result"
    }
   ],
   "source": [
    "# Code 2 - decoding the message\n",
    "code_2_rotors = Rotors()\n",
    "code_2_rotors.set_ref_rotors(\"B\", \"Beta\", \"I\", \"III\")\n",
    "code_2_rotors.ring_settings(23,2,10)\n",
    "code_2_rotors.initial_positions(\"I\",\"M\",\"G\")\n",
    "\n",
    "code_2_plug = Plugboard()\n",
    "code_2_plug.add(PlugLead(\"VH\"))\n",
    "code_2_plug.add(PlugLead(\"PT\"))\n",
    "code_2_plug.add(PlugLead(\"ZG\"))\n",
    "code_2_plug.add(PlugLead(\"BJ\"))\n",
    "code_2_plug.add(PlugLead(\"EY\"))\n",
    "code_2_plug.add(PlugLead(\"FS\"))\n",
    "\n",
    "\n",
    "code_2_enigma = Enigma(code_2_rotors, code_2_plug)\n",
    "code_2_enigma.encode(\"CMFSUPKNCBMUYEQVVDYKLRQZTPUFHSWWAKTUGXMPAMYAFITXIJKMH\")"
   ]
  },
  {
   "cell_type": "code",
   "execution_count": 6,
   "metadata": {},
   "outputs": [
    {
     "name": "stdout",
     "output_type": "stream",
     "text": [
      "Reflector: C, Rotors: (II, Gamma, IV), Rings: (24, 8, 20)\n"
     ]
    }
   ],
   "source": [
    "# Code 3 - finding out the unknown settings\n",
    "\n",
    "code_3_plug = Plugboard()\n",
    "code_3_plug.add(PlugLead(\"FH\"))\n",
    "code_3_plug.add(PlugLead(\"TS\"))\n",
    "code_3_plug.add(PlugLead(\"BE\"))\n",
    "code_3_plug.add(PlugLead(\"UQ\"))\n",
    "code_3_plug.add(PlugLead(\"KD\"))\n",
    "code_3_plug.add(PlugLead(\"AL\"))\n",
    "\n",
    "def find_rotors(plugboard, crib, code):\n",
    "    rotor_options = [\"II\", \"IV\", \"Beta\", \"Gamma\"]\n",
    "    ring_options = [2, 4, 6, 8, 20, 22, 24, 26]\n",
    "    reflector_options = [\"A\", \"B\", \"C\"]\n",
    "    \n",
    "    rotor_combinations = iter.permutations(rotor_options, 3)\n",
    "    ring_combinations = iter.product(ring_options, repeat=3)\n",
    "    all_combinations = iter.product(reflector_options, rotor_combinations, ring_combinations)\n",
    "    for i in all_combinations:\n",
    "        rotors = Rotors()\n",
    "        rotors.set_ref_rotors(i[0], i[1][0], i[1][1], i[1][2])\n",
    "        rotors.initial_positions(\"E\", \"M\", \"Y\")\n",
    "        rotors.ring_settings(i[2][0], i[2][1], i[2][2])\n",
    "        enigma = Enigma(rotors, plugboard)\n",
    "        if crib in enigma.encode(code):\n",
    "            print(f\"Reflector: {i[0]}, Rotors: ({i[1][0]}, {i[1][1]}, {i[1][2]}), Rings: ({i[2][0]}, {i[2][1]}, {i[2][2]})\")\n",
    "\n",
    "find_rotors(code_3_plug, \"THOUSANDS\", \"ABSKJAKKMRITTNYURBJFWQGRSGNNYJSDRYLAPQWIAGKJYEPCTAGDCTHLCDRZRFZHKNRSDLNPFPEBVESHPY\")"
   ]
  },
  {
   "cell_type": "code",
   "execution_count": 7,
   "metadata": {},
   "outputs": [
    {
     "data": {
      "text/plain": [
       "'SQUIRRELSPLANTTHOUSANDSOFNEWTREESEACHYEARBYMERELYFORGETTINGWHERETHEYPUTTHEIRACORNS'"
      ]
     },
     "execution_count": 7,
     "metadata": {},
     "output_type": "execute_result"
    }
   ],
   "source": [
    "# Code 3 - decoding the message\n",
    "\n",
    "code_3_plug = Plugboard()\n",
    "code_3_plug.add(PlugLead(\"FH\"))\n",
    "code_3_plug.add(PlugLead(\"TS\"))\n",
    "code_3_plug.add(PlugLead(\"BE\"))\n",
    "code_3_plug.add(PlugLead(\"UQ\"))\n",
    "code_3_plug.add(PlugLead(\"KD\"))\n",
    "code_3_plug.add(PlugLead(\"AL\"))\n",
    "\n",
    "code_3_rotors = Rotors()\n",
    "code_3_rotors.set_ref_rotors(\"C\", \"II\", \"Gamma\", \"IV\")\n",
    "code_3_rotors.ring_settings(24, 8, 20)\n",
    "code_3_rotors.initial_positions(\"E\", \"M\", \"Y\")\n",
    "\n",
    "code_3_enigma = Enigma(code_3_rotors, code_3_plug)\n",
    "code_3_enigma.encode(\"ABSKJAKKMRITTNYURBJFWQGRSGNNYJSDRYLAPQWIAGKJYEPCTAGDCTHLCDRZRFZHKNRSDLNPFPEBVESHPY\")"
   ]
  },
  {
   "cell_type": "code",
   "execution_count": 8,
   "metadata": {},
   "outputs": [
    {
     "name": "stdout",
     "output_type": "stream",
     "text": [
      "Plugleads connected to the plugboard are: ['WP', 'RJ', 'VF', 'HN', 'CG', 'BS', 'AT', 'ID']\n",
      "NHTUTORSWEREHARMEIEORKZSLKCATEIOFCRKMESIURKNGTHEZADKNGOFTHXSEEXAMPLES\n",
      "\n",
      "Plugleads connected to the plugboard are: ['WP', 'RJ', 'VF', 'HN', 'CG', 'BS', 'AT', 'IE']\n",
      "NOTUTORSWIRIHARMIDIORKMPLKCATIDOFCRKMISDURKNGTHIMAEKNGOFTZKSIIXAMPLIS\n",
      "\n",
      "Plugleads connected to the plugboard are: ['WP', 'RJ', 'VF', 'HN', 'CG', 'BS', 'AT', 'IK']\n",
      "NOTUTORSWEREHARMEDNORIMPLICATEDOFCRIMESDURINGTHEMAKINGOFTHESEEXAMPLES\n",
      "\n",
      "Plugleads connected to the plugboard are: ['WP', 'RJ', 'VF', 'HN', 'CG', 'BS', 'AT', 'IL']\n",
      "NOTUTORSWEREHERMEDEORKMPIKCATEDOFCRKMESDURKTGTHEMALKNGOFTHCSEEXAMPIES\n",
      "\n",
      "Plugleads connected to the plugboard are: ['WP', 'RJ', 'VF', 'HN', 'CG', 'BS', 'AT', 'IM']\n",
      "NOTUTORSWEREHAUIEDEORKIPLKCATEDOFCRKIESNURKNGTHEIAMKNGOFTHHSEEXAIPLES\n",
      "\n",
      "Plugleads connected to the plugboard are: ['WP', 'RJ', 'VF', 'HN', 'CG', 'BS', 'AT', 'IQ']\n",
      "NOTUTORSWEREHARMETEORKMPFKCATEDOFCRAMESDURKNGTHEMRQKNGOFTHUSFEXAMPLES\n",
      "\n",
      "Plugleads connected to the plugboard are: ['WP', 'RJ', 'VF', 'HN', 'CG', 'BS', 'AT', 'IX']\n",
      "NOTUTORSWEREHARMEDEORKMPLKCATEDOFCRKMESDURKNGTHEMAXKNGOFTHDMEEIAMMLES\n",
      "\n",
      "Plugleads connected to the plugboard are: ['WP', 'RJ', 'VF', 'HN', 'CG', 'BS', 'AT', 'IY']\n",
      "NOTUTORSWEREHARMEDEORKMPLUCATEDOFCRKMESDURKNGTHEMAYXNGOROHZSEEXAMPLES\n",
      "\n",
      "Plugleads connected to the plugboard are: ['WP', 'RJ', 'VF', 'HN', 'CG', 'BS', 'AT', 'IZ']\n",
      "NOTUTORSWEREHARAEDEMRKMPLKCATEDOFCRKMESDORLNGTHEMAZKNGOFTHYSEEXAMPLES\n",
      "\n"
     ]
    }
   ],
   "source": [
    "# Code 4 - finding out the plugboard\n",
    "\n",
    "def find_plugleads(crib, code):\n",
    "    options = [chr(x) for x in range(65, 91)]\n",
    "    connected = \"AIWPRJVFHNCGBS\"\n",
    "    for char in connected:\n",
    "        options.remove(char)\n",
    "    all_combinations = iter.product(options, repeat=2)\n",
    "    for i in all_combinations:\n",
    "        if i[0] == i[1]:\n",
    "            continue\n",
    "        rotors = Rotors()\n",
    "        rotors.set_ref_rotors(\"A\", \"V\", \"III\", \"IV\")\n",
    "        rotors.ring_settings(24, 12, 10)\n",
    "        rotors.initial_positions(\"S\", \"W\", \"U\")\n",
    "        plug = Plugboard()\n",
    "        plug.add(PlugLead(\"WP\"))\n",
    "        plug.add(PlugLead(\"RJ\"))\n",
    "        plug.add(PlugLead(\"VF\"))\n",
    "        plug.add(PlugLead(\"HN\"))\n",
    "        plug.add(PlugLead(\"CG\"))\n",
    "        plug.add(PlugLead(\"BS\"))\n",
    "        plug.add(PlugLead(\"A\" + i[0]))\n",
    "        plug.add(PlugLead(\"I\" + i[1]))\n",
    "        \n",
    "        enigma = Enigma(rotors, plug)\n",
    "        decoded = enigma.encode(code)\n",
    "        if crib in decoded:\n",
    "            print(plug)\n",
    "            print(f\"{decoded}\\n\")\n",
    "            \n",
    "find_plugleads(\"TUTOR\", \"SDNTVTPHRBNWTLMZTQKZGADDQYPFNHBPNHCQGBGMZPZLUAVGDQVYRBFYYEIXQWVTHXGNW\")"
   ]
  },
  {
   "cell_type": "code",
   "execution_count": 9,
   "metadata": {},
   "outputs": [
    {
     "data": {
      "text/plain": [
       "'NOTUTORSWEREHARMEDNORIMPLICATEDOFCRIMESDURINGTHEMAKINGOFTHESEEXAMPLES'"
      ]
     },
     "execution_count": 9,
     "metadata": {},
     "output_type": "execute_result"
    }
   ],
   "source": [
    "# Code 4 - confirming the correct plugleads to decode the message\n",
    "\n",
    "code_4_rotors = Rotors()\n",
    "code_4_rotors.set_ref_rotors(\"A\", \"V\", \"III\", \"IV\")\n",
    "code_4_rotors.ring_settings(24, 12, 10)\n",
    "code_4_rotors.initial_positions(\"S\", \"W\", \"U\")\n",
    "\n",
    "plugboard = Plugboard()\n",
    "plugboard.add(PlugLead(\"WP\"))\n",
    "plugboard.add(PlugLead(\"RJ\"))\n",
    "plugboard.add(PlugLead(\"VF\"))\n",
    "plugboard.add(PlugLead(\"HN\"))\n",
    "plugboard.add(PlugLead(\"CG\"))\n",
    "plugboard.add(PlugLead(\"BS\"))\n",
    "plugboard.add(PlugLead(\"AT\"))\n",
    "plugboard.add(PlugLead(\"IK\"))\n",
    "enigma = Enigma(code_4_rotors, plugboard)\n",
    "enigma.encode(\"SDNTVTPHRBNWTLMZTQKZGADDQYPFNHBPNHCQGBGMZPZLUAVGDQVYRBFYYEIXQWVTHXGNW\")"
   ]
  },
  {
   "cell_type": "code",
   "execution_count": 10,
   "metadata": {},
   "outputs": [
    {
     "name": "stdout",
     "output_type": "stream",
     "text": [
      "B_modified, [['YI', 'AP'], ['RE', 'BQ']], Crib: INSTAGRAM, Message: YOUCANFOLLOWMYDOGONINSTAGRAMATTALESOFHOFFMANN\n",
      "B_modified, [['YI', 'AP'], ['QB', 'ER']], Crib: INSTAGRAM, Message: YOUCANFOLLOWMYDOGONINSTAGRAMATTALESOFHOFFMANN\n",
      "B_modified, [['RE', 'BQ'], ['YI', 'AP']], Crib: INSTAGRAM, Message: YOUCANFOLLOWMYDOGONINSTAGRAMATTALESOFHOFFMANN\n",
      "B_modified, [['RE', 'BQ'], ['PA', 'IY']], Crib: INSTAGRAM, Message: YOUCANFOLLOWMYDOGONINSTAGRAMATTALESOFHOFFMANN\n",
      "B_modified, [['QB', 'ER'], ['YI', 'AP']], Crib: INSTAGRAM, Message: YOUCANFOLLOWMYDOGONINSTAGRAMATTALESOFHOFFMANN\n",
      "B_modified, [['QB', 'ER'], ['PA', 'IY']], Crib: INSTAGRAM, Message: YOUCANFOLLOWMYDOGONINSTAGRAMATTALESOFHOFFMANN\n",
      "B_modified, [['PA', 'IY'], ['RE', 'BQ']], Crib: INSTAGRAM, Message: YOUCANFOLLOWMYDOGONINSTAGRAMATTALESOFHOFFMANN\n",
      "B_modified, [['PA', 'IY'], ['QB', 'ER']], Crib: INSTAGRAM, Message: YOUCANFOLLOWMYDOGONINSTAGRAMATTALESOFHOFFMANN\n"
     ]
    }
   ],
   "source": [
    "# Code 5 - finding the 2 pairs of leads whose wiring was swapped\n",
    "\n",
    "code_5_plugboard = Plugboard()\n",
    "code_5_plugboard.add(PlugLead(\"UG\"))\n",
    "code_5_plugboard.add(PlugLead(\"IE\"))\n",
    "code_5_plugboard.add(PlugLead(\"PO\"))\n",
    "code_5_plugboard.add(PlugLead(\"NX\"))\n",
    "code_5_plugboard.add(PlugLead(\"WT\"))\n",
    "\n",
    "def find_reflector(plugboard, cribs, code):\n",
    "    reflector_options = [\"A\", \"B\", \"C\"]\n",
    "    alphabet = [chr(x) for x in range(65,91)]\n",
    "    rotors=Rotors()\n",
    "    for reflector in reflector_options:\n",
    "        reflector_wires = [] # making a list of the 13 pairs of char which make up the wiring for the reflector \n",
    "        for i in range(26):\n",
    "            reflector_wires.append(rotors._reflector_maps[reflector][i] + alphabet[i])\n",
    "            for wire1 in reflector_wires: # removing duplicate wirings i.e \"AH\" and \"HA\"\n",
    "                for wire2 in reflector_wires:\n",
    "                    if wire2[0] == wire1[1]:\n",
    "                        reflector_wires.remove(wire2)\n",
    "        \n",
    "        two_pair_combinations = iter.permutations(reflector_wires, 4) # all permutations of two pairs of wires\n",
    "        for i in two_pair_combinations:\n",
    "            # for each permutation, define 2 new sets of wirings by swapping the wire ends\n",
    "            # Each swapped wiring configuration is made up of a list of two lists. Each list is a pair of swapped wires.\n",
    "            swapped_wiring_1 = [[i[0][0] + i[1][0], i[0][1] + i[1][1]], [i[2][0] + i[3][0], i[2][1] + i[3][1]]]\n",
    "            swapped_wiring_2 = [[i[0][0] + i[1][1], i[0][1] + i[1][0]], [i[2][0] + i[3][1], i[2][1] + i[3][0]]]\n",
    "            \n",
    "            # testing the first wire swap configuration\n",
    "            rotors = Rotors()\n",
    "            # use swap wiring method from Rotors class to change the reflectors wiring\n",
    "            rotors.swap_reflector_wiring(reflector, swapped_wiring_1[0], swapped_wiring_1[1])\n",
    "            rotors.set_ref_rotors(reflector + \"_modified\", \"V\", \"II\", \"IV\")\n",
    "            rotors.initial_positions(\"A\", \"J\", \"L\")\n",
    "            rotors.ring_settings(6, 18, 7)\n",
    "            enigma = Enigma(rotors, plugboard)\n",
    "            decoded = enigma.encode(code)\n",
    "            for crib in cribs:\n",
    "                if crib in decoded:\n",
    "                    print(f\"{rotors._reflector}, {swapped_wiring_1}, Crib: {crib}, Message: {decoded}\")\n",
    "            \n",
    "            # testing the second wire swap configuration\n",
    "            rotors = Rotors()\n",
    "            rotors.swap_reflector_wiring(reflector, swapped_wiring_2[0], swapped_wiring_2[1])\n",
    "            rotors.set_ref_rotors(reflector + \"_modified\", \"V\", \"II\", \"IV\")\n",
    "            rotors.initial_positions(\"A\", \"J\", \"L\")\n",
    "            rotors.ring_settings(6, 18, 7)\n",
    "            enigma = Enigma(rotors, plugboard)\n",
    "            decoded = enigma.encode(code)\n",
    "            for crib in cribs:\n",
    "                if crib in decoded:\n",
    "                    print(f\"{rotors._reflector}, {swapped_wiring_2}, Crib: {crib}, Message: {decoded}\")\n",
    "\n",
    "social_media = [\"INSTAGRAM\", \"FACEBOOK\", \"TWITTER\"]\n",
    "find_reflector(code_5_plugboard, social_media, \"HWREISXLGTTBYVXRCWWJAKZDTVZWKBDJPVQYNEQIOTIFX\")"
   ]
  },
  {
   "cell_type": "code",
   "execution_count": 11,
   "metadata": {},
   "outputs": [
    {
     "data": {
      "text/plain": [
       "'YOUCANFOLLOWMYDOGONINSTAGRAMATTALESOFHOFFMANN'"
      ]
     },
     "execution_count": 11,
     "metadata": {},
     "output_type": "execute_result"
    }
   ],
   "source": [
    "# Code 5 - finding out the secret message\n",
    "code_5_rotors = Rotors()\n",
    "code_5_rotors.swap_reflector_wiring(\"B\", ['YI', 'AP'], ['RE', 'BQ'])\n",
    "code_5_rotors.set_ref_rotors(\"B_modified\", \"V\", \"II\", \"IV\")\n",
    "code_5_rotors.ring_settings(6, 18, 7)\n",
    "code_5_rotors.initial_positions(\"A\", \"J\", \"L\")\n",
    "\n",
    "code_5_plugboard = Plugboard()\n",
    "code_5_plugboard.add(PlugLead(\"UG\"))\n",
    "code_5_plugboard.add(PlugLead(\"IE\"))\n",
    "code_5_plugboard.add(PlugLead(\"PO\"))\n",
    "code_5_plugboard.add(PlugLead(\"NX\"))\n",
    "code_5_plugboard.add(PlugLead(\"WT\"))\n",
    "\n",
    "code_5_enigma = Enigma(code_5_rotors, code_5_plugboard)\n",
    "code_5_enigma.encode(\"HWREISXLGTTBYVXRCWWJAKZDTVZWKBDJPVQYNEQIOTIFX\")"
   ]
  }
 ],
 "metadata": {
  "kernelspec": {
   "display_name": "Python 3 (ipykernel)",
   "language": "python",
   "name": "python3"
  },
  "language_info": {
   "codemirror_mode": {
    "name": "ipython",
    "version": 3
   },
   "file_extension": ".py",
   "mimetype": "text/x-python",
   "name": "python",
   "nbconvert_exporter": "python",
   "pygments_lexer": "ipython3",
   "version": "3.8.13"
  }
 },
 "nbformat": 4,
 "nbformat_minor": 4
}
